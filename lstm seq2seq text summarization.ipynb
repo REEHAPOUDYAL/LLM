{
  "nbformat": 4,
  "nbformat_minor": 0,
  "metadata": {
    "colab": {
      "provenance": [],
      "gpuType": "T4"
    },
    "kernelspec": {
      "name": "python3",
      "display_name": "Python 3"
    },
    "language_info": {
      "name": "python"
    },
    "accelerator": "GPU"
  },
  "cells": [
    {
      "cell_type": "code",
      "source": [
        "!pip install -U -q spacy"
      ],
      "metadata": {
        "id": "eoNtQDF8aRos"
      },
      "execution_count": 1,
      "outputs": []
    },
    {
      "cell_type": "code",
      "source": [
        "!spacy download en_core_web_sm"
      ],
      "metadata": {
        "colab": {
          "base_uri": "https://localhost:8080/"
        },
        "id": "tE_Jb3Dcaptb",
        "outputId": "f7fcb1c0-411d-4554-9e24-82f78b291805"
      },
      "execution_count": 2,
      "outputs": [
        {
          "output_type": "stream",
          "name": "stdout",
          "text": [
            "Collecting en-core-web-sm==3.8.0\n",
            "  Downloading https://github.com/explosion/spacy-models/releases/download/en_core_web_sm-3.8.0/en_core_web_sm-3.8.0-py3-none-any.whl (12.8 MB)\n",
            "\u001b[2K     \u001b[90m━━━━━━━━━━━━━━━━━━━━━━━━━━━━━━━━━━━━━━━━\u001b[0m \u001b[32m12.8/12.8 MB\u001b[0m \u001b[31m96.3 MB/s\u001b[0m eta \u001b[36m0:00:00\u001b[0m\n",
            "\u001b[?25h\u001b[38;5;2m✔ Download and installation successful\u001b[0m\n",
            "You can now load the package via spacy.load('en_core_web_sm')\n",
            "\u001b[38;5;3m⚠ Restart to reload dependencies\u001b[0m\n",
            "If you are in a Jupyter or Colab notebook, you may need to restart Python in\n",
            "order to load all the package's dependencies. You can do this by selecting the\n",
            "'Restart kernel' or 'Restart runtime' option.\n"
          ]
        }
      ]
    },
    {
      "cell_type": "code",
      "execution_count": 42,
      "metadata": {
        "id": "jAyJVO6WM3ko"
      },
      "outputs": [],
      "source": [
        " import os\n",
        " import torch\n",
        " import string\n",
        " import spacy\n",
        " import torch.nn as nn\n",
        " import torch.optim as optim\n",
        " import torch.nn.functional as F\n",
        " import numpy as np\n",
        " import pandas as pd\n",
        " import random\n",
        " import matplotlib.pyplot as plt\n",
        "\n",
        " from torch.utils.data import Dataset, DataLoader\n",
        " from sklearn.model_selection import train_test_split\n",
        " from transformers import AutoTokenizer, AutoModel\n",
        " import matplotlib.pyplot as plt\n",
        " from torch.nn.utils.rnn import pad_sequence\n",
        " from tensorflow.keras.preprocessing.text import Tokenizer\n",
        " from tensorflow.keras.preprocessing.sequence import pad_sequences\n",
        " from google.colab import drive"
      ]
    },
    {
      "cell_type": "markdown",
      "source": [
        "# **Data Loading**"
      ],
      "metadata": {
        "id": "2qI4gplLUq9r"
      }
    },
    {
      "cell_type": "markdown",
      "source": [
        "''' The dataset has been selected from kaggle named BBC News Summary specifically from the Entertainment Section.  It consists of a collection of plain text (.txt) files, each representing an individual entertainment news article published by the BBC with 386 data for articles and 386 for summaries'''"
      ],
      "metadata": {
        "id": "fKy-VycZVCz7"
      }
    },
    {
      "cell_type": "code",
      "source": [
        "drive.mount('/content/drive')\n",
        "articles_path = \"/content/drive/MyDrive/SEQSEQ/entertainment\"\n",
        "summaries_path = \"/content/drive/MyDrive/SEQSEQ/entertainment_sum\"\n",
        "all_dfs = []\n",
        "\n",
        "file_names = [f\"{i:03d}.txt\" for i in range(1, 387)]\n",
        "articles = []\n",
        "summaries = []\n",
        "\n",
        "for file_name in file_names:\n",
        "    with open(os.path.join(articles_path, file_name), 'r', encoding='utf-8') as f:\n",
        "        articles.append(f.read())\n",
        "\n",
        "    with open(os.path.join(summaries_path, file_name), 'r', encoding='utf-8') as f:\n",
        "        summaries.append(f.read())\n",
        "\n",
        "\n",
        "data = pd.DataFrame({\n",
        "    'article': articles,\n",
        "    'summary': summaries\n",
        "})\n",
        "\n"
      ],
      "metadata": {
        "colab": {
          "base_uri": "https://localhost:8080/"
        },
        "id": "dCyFml8ANWVS",
        "outputId": "f3d4ee2c-8fce-4022-bfd4-51af320e1c99"
      },
      "execution_count": 4,
      "outputs": [
        {
          "output_type": "stream",
          "name": "stdout",
          "text": [
            "Drive already mounted at /content/drive; to attempt to forcibly remount, call drive.mount(\"/content/drive\", force_remount=True).\n"
          ]
        }
      ]
    },
    {
      "cell_type": "code",
      "source": [
        "data.head()"
      ],
      "metadata": {
        "colab": {
          "base_uri": "https://localhost:8080/",
          "height": 206
        },
        "id": "bRn1CZ0LOmyM",
        "outputId": "83334711-3c90-4af2-aab4-90129e6d98b5"
      },
      "execution_count": 5,
      "outputs": [
        {
          "output_type": "execute_result",
          "data": {
            "text/plain": [
              "                                             article  \\\n",
              "0  Gallery unveils interactive tree\\n\\nA Christma...   \n",
              "1  Jarre joins fairytale celebration\\n\\nFrench mu...   \n",
              "2  Musical treatment for Capra film\\n\\nThe classi...   \n",
              "3  Richard and Judy choose top books\\n\\nThe 10 au...   \n",
              "4  Poppins musical gets flying start\\n\\nThe stage...   \n",
              "\n",
              "                                             summary  \n",
              "0  The messages will be \"unwrapped\" by sculptor R...  \n",
              "1  Bloom is to be formally presented with the Han...  \n",
              "2  The classic film It's A Wonderful Life is to b...  \n",
              "3  \"It was very hard to follow last year's extrem...  \n",
              "4  Mary Poppins was originally created by author ...  "
            ],
            "text/html": [
              "\n",
              "  <div id=\"df-c6af1b97-6834-4a60-94ff-e1ddf54dd143\" class=\"colab-df-container\">\n",
              "    <div>\n",
              "<style scoped>\n",
              "    .dataframe tbody tr th:only-of-type {\n",
              "        vertical-align: middle;\n",
              "    }\n",
              "\n",
              "    .dataframe tbody tr th {\n",
              "        vertical-align: top;\n",
              "    }\n",
              "\n",
              "    .dataframe thead th {\n",
              "        text-align: right;\n",
              "    }\n",
              "</style>\n",
              "<table border=\"1\" class=\"dataframe\">\n",
              "  <thead>\n",
              "    <tr style=\"text-align: right;\">\n",
              "      <th></th>\n",
              "      <th>article</th>\n",
              "      <th>summary</th>\n",
              "    </tr>\n",
              "  </thead>\n",
              "  <tbody>\n",
              "    <tr>\n",
              "      <th>0</th>\n",
              "      <td>Gallery unveils interactive tree\\n\\nA Christma...</td>\n",
              "      <td>The messages will be \"unwrapped\" by sculptor R...</td>\n",
              "    </tr>\n",
              "    <tr>\n",
              "      <th>1</th>\n",
              "      <td>Jarre joins fairytale celebration\\n\\nFrench mu...</td>\n",
              "      <td>Bloom is to be formally presented with the Han...</td>\n",
              "    </tr>\n",
              "    <tr>\n",
              "      <th>2</th>\n",
              "      <td>Musical treatment for Capra film\\n\\nThe classi...</td>\n",
              "      <td>The classic film It's A Wonderful Life is to b...</td>\n",
              "    </tr>\n",
              "    <tr>\n",
              "      <th>3</th>\n",
              "      <td>Richard and Judy choose top books\\n\\nThe 10 au...</td>\n",
              "      <td>\"It was very hard to follow last year's extrem...</td>\n",
              "    </tr>\n",
              "    <tr>\n",
              "      <th>4</th>\n",
              "      <td>Poppins musical gets flying start\\n\\nThe stage...</td>\n",
              "      <td>Mary Poppins was originally created by author ...</td>\n",
              "    </tr>\n",
              "  </tbody>\n",
              "</table>\n",
              "</div>\n",
              "    <div class=\"colab-df-buttons\">\n",
              "\n",
              "  <div class=\"colab-df-container\">\n",
              "    <button class=\"colab-df-convert\" onclick=\"convertToInteractive('df-c6af1b97-6834-4a60-94ff-e1ddf54dd143')\"\n",
              "            title=\"Convert this dataframe to an interactive table.\"\n",
              "            style=\"display:none;\">\n",
              "\n",
              "  <svg xmlns=\"http://www.w3.org/2000/svg\" height=\"24px\" viewBox=\"0 -960 960 960\">\n",
              "    <path d=\"M120-120v-720h720v720H120Zm60-500h600v-160H180v160Zm220 220h160v-160H400v160Zm0 220h160v-160H400v160ZM180-400h160v-160H180v160Zm440 0h160v-160H620v160ZM180-180h160v-160H180v160Zm440 0h160v-160H620v160Z\"/>\n",
              "  </svg>\n",
              "    </button>\n",
              "\n",
              "  <style>\n",
              "    .colab-df-container {\n",
              "      display:flex;\n",
              "      gap: 12px;\n",
              "    }\n",
              "\n",
              "    .colab-df-convert {\n",
              "      background-color: #E8F0FE;\n",
              "      border: none;\n",
              "      border-radius: 50%;\n",
              "      cursor: pointer;\n",
              "      display: none;\n",
              "      fill: #1967D2;\n",
              "      height: 32px;\n",
              "      padding: 0 0 0 0;\n",
              "      width: 32px;\n",
              "    }\n",
              "\n",
              "    .colab-df-convert:hover {\n",
              "      background-color: #E2EBFA;\n",
              "      box-shadow: 0px 1px 2px rgba(60, 64, 67, 0.3), 0px 1px 3px 1px rgba(60, 64, 67, 0.15);\n",
              "      fill: #174EA6;\n",
              "    }\n",
              "\n",
              "    .colab-df-buttons div {\n",
              "      margin-bottom: 4px;\n",
              "    }\n",
              "\n",
              "    [theme=dark] .colab-df-convert {\n",
              "      background-color: #3B4455;\n",
              "      fill: #D2E3FC;\n",
              "    }\n",
              "\n",
              "    [theme=dark] .colab-df-convert:hover {\n",
              "      background-color: #434B5C;\n",
              "      box-shadow: 0px 1px 3px 1px rgba(0, 0, 0, 0.15);\n",
              "      filter: drop-shadow(0px 1px 2px rgba(0, 0, 0, 0.3));\n",
              "      fill: #FFFFFF;\n",
              "    }\n",
              "  </style>\n",
              "\n",
              "    <script>\n",
              "      const buttonEl =\n",
              "        document.querySelector('#df-c6af1b97-6834-4a60-94ff-e1ddf54dd143 button.colab-df-convert');\n",
              "      buttonEl.style.display =\n",
              "        google.colab.kernel.accessAllowed ? 'block' : 'none';\n",
              "\n",
              "      async function convertToInteractive(key) {\n",
              "        const element = document.querySelector('#df-c6af1b97-6834-4a60-94ff-e1ddf54dd143');\n",
              "        const dataTable =\n",
              "          await google.colab.kernel.invokeFunction('convertToInteractive',\n",
              "                                                    [key], {});\n",
              "        if (!dataTable) return;\n",
              "\n",
              "        const docLinkHtml = 'Like what you see? Visit the ' +\n",
              "          '<a target=\"_blank\" href=https://colab.research.google.com/notebooks/data_table.ipynb>data table notebook</a>'\n",
              "          + ' to learn more about interactive tables.';\n",
              "        element.innerHTML = '';\n",
              "        dataTable['output_type'] = 'display_data';\n",
              "        await google.colab.output.renderOutput(dataTable, element);\n",
              "        const docLink = document.createElement('div');\n",
              "        docLink.innerHTML = docLinkHtml;\n",
              "        element.appendChild(docLink);\n",
              "      }\n",
              "    </script>\n",
              "  </div>\n",
              "\n",
              "\n",
              "    <div id=\"df-de66745c-f8f5-4892-9644-597e50e99866\">\n",
              "      <button class=\"colab-df-quickchart\" onclick=\"quickchart('df-de66745c-f8f5-4892-9644-597e50e99866')\"\n",
              "                title=\"Suggest charts\"\n",
              "                style=\"display:none;\">\n",
              "\n",
              "<svg xmlns=\"http://www.w3.org/2000/svg\" height=\"24px\"viewBox=\"0 0 24 24\"\n",
              "     width=\"24px\">\n",
              "    <g>\n",
              "        <path d=\"M19 3H5c-1.1 0-2 .9-2 2v14c0 1.1.9 2 2 2h14c1.1 0 2-.9 2-2V5c0-1.1-.9-2-2-2zM9 17H7v-7h2v7zm4 0h-2V7h2v10zm4 0h-2v-4h2v4z\"/>\n",
              "    </g>\n",
              "</svg>\n",
              "      </button>\n",
              "\n",
              "<style>\n",
              "  .colab-df-quickchart {\n",
              "      --bg-color: #E8F0FE;\n",
              "      --fill-color: #1967D2;\n",
              "      --hover-bg-color: #E2EBFA;\n",
              "      --hover-fill-color: #174EA6;\n",
              "      --disabled-fill-color: #AAA;\n",
              "      --disabled-bg-color: #DDD;\n",
              "  }\n",
              "\n",
              "  [theme=dark] .colab-df-quickchart {\n",
              "      --bg-color: #3B4455;\n",
              "      --fill-color: #D2E3FC;\n",
              "      --hover-bg-color: #434B5C;\n",
              "      --hover-fill-color: #FFFFFF;\n",
              "      --disabled-bg-color: #3B4455;\n",
              "      --disabled-fill-color: #666;\n",
              "  }\n",
              "\n",
              "  .colab-df-quickchart {\n",
              "    background-color: var(--bg-color);\n",
              "    border: none;\n",
              "    border-radius: 50%;\n",
              "    cursor: pointer;\n",
              "    display: none;\n",
              "    fill: var(--fill-color);\n",
              "    height: 32px;\n",
              "    padding: 0;\n",
              "    width: 32px;\n",
              "  }\n",
              "\n",
              "  .colab-df-quickchart:hover {\n",
              "    background-color: var(--hover-bg-color);\n",
              "    box-shadow: 0 1px 2px rgba(60, 64, 67, 0.3), 0 1px 3px 1px rgba(60, 64, 67, 0.15);\n",
              "    fill: var(--button-hover-fill-color);\n",
              "  }\n",
              "\n",
              "  .colab-df-quickchart-complete:disabled,\n",
              "  .colab-df-quickchart-complete:disabled:hover {\n",
              "    background-color: var(--disabled-bg-color);\n",
              "    fill: var(--disabled-fill-color);\n",
              "    box-shadow: none;\n",
              "  }\n",
              "\n",
              "  .colab-df-spinner {\n",
              "    border: 2px solid var(--fill-color);\n",
              "    border-color: transparent;\n",
              "    border-bottom-color: var(--fill-color);\n",
              "    animation:\n",
              "      spin 1s steps(1) infinite;\n",
              "  }\n",
              "\n",
              "  @keyframes spin {\n",
              "    0% {\n",
              "      border-color: transparent;\n",
              "      border-bottom-color: var(--fill-color);\n",
              "      border-left-color: var(--fill-color);\n",
              "    }\n",
              "    20% {\n",
              "      border-color: transparent;\n",
              "      border-left-color: var(--fill-color);\n",
              "      border-top-color: var(--fill-color);\n",
              "    }\n",
              "    30% {\n",
              "      border-color: transparent;\n",
              "      border-left-color: var(--fill-color);\n",
              "      border-top-color: var(--fill-color);\n",
              "      border-right-color: var(--fill-color);\n",
              "    }\n",
              "    40% {\n",
              "      border-color: transparent;\n",
              "      border-right-color: var(--fill-color);\n",
              "      border-top-color: var(--fill-color);\n",
              "    }\n",
              "    60% {\n",
              "      border-color: transparent;\n",
              "      border-right-color: var(--fill-color);\n",
              "    }\n",
              "    80% {\n",
              "      border-color: transparent;\n",
              "      border-right-color: var(--fill-color);\n",
              "      border-bottom-color: var(--fill-color);\n",
              "    }\n",
              "    90% {\n",
              "      border-color: transparent;\n",
              "      border-bottom-color: var(--fill-color);\n",
              "    }\n",
              "  }\n",
              "</style>\n",
              "\n",
              "      <script>\n",
              "        async function quickchart(key) {\n",
              "          const quickchartButtonEl =\n",
              "            document.querySelector('#' + key + ' button');\n",
              "          quickchartButtonEl.disabled = true;  // To prevent multiple clicks.\n",
              "          quickchartButtonEl.classList.add('colab-df-spinner');\n",
              "          try {\n",
              "            const charts = await google.colab.kernel.invokeFunction(\n",
              "                'suggestCharts', [key], {});\n",
              "          } catch (error) {\n",
              "            console.error('Error during call to suggestCharts:', error);\n",
              "          }\n",
              "          quickchartButtonEl.classList.remove('colab-df-spinner');\n",
              "          quickchartButtonEl.classList.add('colab-df-quickchart-complete');\n",
              "        }\n",
              "        (() => {\n",
              "          let quickchartButtonEl =\n",
              "            document.querySelector('#df-de66745c-f8f5-4892-9644-597e50e99866 button');\n",
              "          quickchartButtonEl.style.display =\n",
              "            google.colab.kernel.accessAllowed ? 'block' : 'none';\n",
              "        })();\n",
              "      </script>\n",
              "    </div>\n",
              "\n",
              "    </div>\n",
              "  </div>\n"
            ],
            "application/vnd.google.colaboratory.intrinsic+json": {
              "type": "dataframe",
              "variable_name": "data",
              "summary": "{\n  \"name\": \"data\",\n  \"rows\": 386,\n  \"fields\": [\n    {\n      \"column\": \"article\",\n      \"properties\": {\n        \"dtype\": \"string\",\n        \"num_unique_values\": 369,\n        \"samples\": [\n          \"US composer recreates Bach score\\n\\nA US musicologist has recreated a lost musical score by German composer Johann Sebastian Bach.\\n\\nThe 1728 composition, called Wedding Cantata BWV 216, was found among the papers of Japanese pianist Chieko Hara, who died in Japan in 2001 aged 86. The work, written for the wedding of a daughter of a German customs official, was missing for 80 years. Joshua Rifkin - a composer and leading interpreter of Bach - has recreated the missing instrumental parts.\\n\\nHe said he originally wanted to let the lost cantata lie in rest. \\\"Maybe a fragment should stay a fragment,\\\" said Rifkin. \\\"Then I thought of palaeontologists, from one bone they figure the entire dinosaur. This is my dinosaur.\\\" The eight rediscovered pages consist of vocal pieces in German for soprano and alto, with the seven movements lasting for a total of between 20 and 25 minutes. The instrumental parts were entirely lost except for two recycled movements, a duet and an aria which had been used elsewhere in Bach's work. Rifkin likened the challenge to a \\\"musical Rubik's cube\\\". \\\"I could not reconstruct what Bach wrote but I could give the people of today an idea of what his music was like,\\\" he said. \\\"It sounds like Bach's music, but the listener should not know which part is Bach's and which part is mine.\\\"\\n\",\n          \"Vera Drake scoops film award\\n\\nOscar hopefuls Mike Leigh and Imelda Staunton were both winners at the 2004 Evening Standard British Film Awards.\\n\\nVera Drake - Leigh's 1950s drama about a backstreet abortionist - was named best film and Staunton, who played the title role, was named best actress. Other winners included Paddy Considine, who was crowned best actor for his role in Dead Man's Shoes. Bridget Jones: The Edge of Reason was named Evening Standard Readers' Film of 2004 at the central London ceremony.\\n\\nLeigh was presented with his winner's statuette by Timothy Spall and Staunton's award was announced by Patrick Stewart, during the glittering ceremony at The Savoy on Sunday night. Evening Standard film critic Derek Malcolm said: \\\"He [Leigh] has never made a film that is better controlled and technically more secure... If this isn't one of the films of the year, I don't know what is.\\\" The Alexander Walker Special Award - which honours those who have made a supreme contribution to British film - went to Tim Bevan and Eric Fellner, the co-chairmen of Working Title films. The production company is behind films such as My Beautiful Laundrette, Billy Elliot, About A Boy, Shaun of The Dead and Bridget Jones: The Edge of Reason.\\n\\nSimon Pegg, who stars in and co-wrote Shaun of the Dead, won the 2004 Peter Sellers Award For Comedy. Other winners included Emily Blunt and Nathalie Press who were jointly named ITV London Most Promising Newcomer Award for their performances in Pawel Pawlikowski's rites-of-passage story, My Summer of Love. Pawlikowski won the best screenplay statuette, while Roger Deakins won the Technical Achievement Award for his cinematography on The Village and The Ladykillers. Guests at the ceremony included Dame Judi Dench, Kim Cattrall, Charles Dance, Bill Nighy and Colin Firth. The awards, which were hosted by Jack Dee, are to be screened on ITV London on Tuesday at 2300 GMT.\\n\",\n          \"Arthur Hailey: King of the bestsellers\\n\\nNovelist Arthur Hailey, who has died at the age of 84, was known for his bestselling page-turners exploring the inner workings of various industries, from the hotels to high finance.\\n\\nBorn in Luton, Bedfordshire, on 5 April 1920, Hailey was the only child of working class parents, They could not afford to keep him in school beyond the age of 14. He served as a pilot with the Royal Air Force during World War II, flying fighter planes to the Middle East. It was an occupation that was later to feature in his authorial debut, the television screenplay Flight into Danger. Hailey emigrated to Canada in 1947, where he eventually became a citizen. He wanted to be a writer from an early age, but did not take it up professionally until his mid-thirties, when he was inspired to write his first screenplay while on a return flight to Toronto.\\n\\n\\\"I fell to daydreaming. I visualised the pilots at the controls and wondered what would happen if they both got sick. Could I fly the airplane? I was a rusty wartime pilot who hadn't flown for nine years... \\\" Hailey later recalled. The Canadian Broadcasting Corporation bought Flight into Danger for $600 (\\u00a3318) and it was shown on TV in April 1956. It was later memorably spoofed in the 1980 comedy Airplane!, starring Leslie Nielsen. Hailey worked as a screenwriter for a couple of years, before turning to novels. He went on to produce 11 best-selling books, which were published into 38 languages in 40 countries. Flight into Danger was adapted to become Hailey's first novel, Runaway Zero-Eight in 1958. The Final Diagnosis and In High Places followed, both achieving a popular following. But it was not until Hotel, in 1965, that Hollywood came calling. The hit novel took four years to write, and stayed on national best-seller lists for a full year. It was turned into a movie in 1967 and later adapted into a glossy soap in the 1980s, starring James Brolin. Airport (1968) arguably remains Hailey's best-loved work and prompted the disaster movie genre. The thriller follows events in the sky, and on the ground at a snow-logged airport, when a terrorist boards an airplane with a bomb.\\n\\nThe book was adapted into a hit film in 1970, starring Burt Lancaster as the harassed aiport manager and Dean Martin as a womanising pilot, alongside Jean Seberg and Jacqueline Bisset. In a testament to the popularity of the fledgling disaster genre - three sequels followed. The writer was known for his painstaking research into the professions around which each novel was centred, drawing his characters \\\"from real life\\\" and taking up to three years to produce each book. \\\"I have never been able to write quickly or easily. I am too self-critical for that. I am never satisfied,\\\" he once said. In 1969, he moved to Nassau in the Bahamas, with his wife Sheila. Wheels (1971), The Moneychangers (1975) and Overload (1979) followed. Despite a lukewarm response from critics, and few literary accolades, Hailey was at the height of his fame in the seventies and continued to attract the attention of Hollywood producers. Strong Medicine, Hailey's blockbuster focusing on the pharmaceutical industry, was turned into a film in 1986, starring Sam Neill, Douglas Fairbanks Jr and a panoply of former soap stars. The 1997 novel Detective proved to be Hailey's final book, when at the age of 77 he decided to retire. Hailey's health began to deteriorate in recent years, twice undergoing heart surgery. He suffered a stroke just two months ago. He died in his sleep on Wednesday, after dinner with his wife and two of his six children at his home in New Providence island. \\\"He had a wonderful life. His greatest ambition was to see his name on a book and he certainly achieved that,\\\" said his wife, Sheila.\\n\"\n        ],\n        \"semantic_type\": \"\",\n        \"description\": \"\"\n      }\n    },\n    {\n      \"column\": \"summary\",\n      \"properties\": {\n        \"dtype\": \"string\",\n        \"num_unique_values\": 364,\n        \"samples\": [\n          \"Former All Saints singer Natalie Appleton,31, walked out of the show after learning she would face a fifth so-called Bushtucker Trial.All four contestants still remain in I'm A Celebrity ... Get Me Out Of Here as no evictions were made on the television show on Saturday.And on 26 November singer Brian Harvey quit as a contestant after he had a blazing row with Janet Street-Porter.Model Sophie Anderton was the last person to be voted off the ITV1 show, set in the Australian jungle.\",\n          \"Bridget Jones: The Edge of Reason was named Evening Standard Readers' Film of 2004 at the central London ceremony.Vera Drake - Leigh's 1950s drama about a backstreet abortionist - was named best film and Staunton, who played the title role, was named best actress.Oscar hopefuls Mike Leigh and Imelda Staunton were both winners at the 2004 Evening Standard British Film Awards.Evening Standard film critic Derek Malcolm said: \\\"He [Leigh] has never made a film that is better controlled and technically more secure...Other winners included Paddy Considine, who was crowned best actor for his role in Dead Man's Shoes.Leigh was presented with his winner's statuette by Timothy Spall and Staunton's award was announced by Patrick Stewart, during the glittering ceremony at The Savoy on Sunday night.\",\n          \"The writer was known for his painstaking research into the professions around which each novel was centred, drawing his characters \\\"from real life\\\" and taking up to three years to produce each book.It was an occupation that was later to feature in his authorial debut, the television screenplay Flight into Danger.Flight into Danger was adapted to become Hailey's first novel, Runaway Zero-Eight in 1958.I was a rusty wartime pilot who hadn't flown for nine years... \\\" Hailey later recalled.His greatest ambition was to see his name on a book and he certainly achieved that,\\\" said his wife, Sheila.It was later memorably spoofed in the 1980 comedy Airplane!, starring Leslie Nielsen.It was turned into a movie in 1967 and later adapted into a glossy soap in the 1980s, starring James Brolin.Novelist Arthur Hailey, who has died at the age of 84, was known for his bestselling page-turners exploring the inner workings of various industries, from the hotels to high finance.Born in Luton, Bedfordshire, on 5 April 1920, Hailey was the only child of working class parents, They could not afford to keep him in school beyond the age of 14.But it was not until Hotel, in 1965, that Hollywood came calling.He wanted to be a writer from an early age, but did not take it up professionally until his mid-thirties, when he was inspired to write his first screenplay while on a return flight to Toronto.The book was adapted into a hit film in 1970, starring Burt Lancaster as the harassed aiport manager and Dean Martin as a womanising pilot, alongside Jean Seberg and Jacqueline Bisset.The Canadian Broadcasting Corporation bought Flight into Danger for $600 (\\u00a3318) and it was shown on TV in April 1956.Strong Medicine, Hailey's blockbuster focusing on the pharmaceutical industry, was turned into a film in 1986, starring Sam Neill, Douglas Fairbanks Jr and a panoply of former soap stars.Despite a lukewarm response from critics, and few literary accolades, Hailey was at the height of his fame in the seventies and continued to attract the attention of Hollywood producers.\"\n        ],\n        \"semantic_type\": \"\",\n        \"description\": \"\"\n      }\n    }\n  ]\n}"
            }
          },
          "metadata": {},
          "execution_count": 5
        }
      ]
    },
    {
      "cell_type": "markdown",
      "source": [
        "## Data Preprocessing"
      ],
      "metadata": {
        "id": "FkuqeTj9VhLo"
      }
    },
    {
      "cell_type": "markdown",
      "source": [
        "For data processing I have changed the text to lowercase , removed whitespace , stopwords , tokenized the text and finally lemmitization have been done. The text are padded for same length token for model input"
      ],
      "metadata": {
        "id": "gU9GnT5Jdz5z"
      }
    },
    {
      "cell_type": "markdown",
      "source": [],
      "metadata": {
        "id": "ZQeXZOVgdynZ"
      }
    },
    {
      "cell_type": "code",
      "source": [
        "import spacy\n",
        "import re\n",
        "\n",
        "nlp = spacy.load(\"en_core_web_sm\")\n",
        "def basic_preprocess(text):\n",
        "    text = re.sub(r'\\s+', ' ', text.lower()).strip()\n",
        "    doc = nlp(text)\n",
        "    tokens = [token.text for token in doc if not token.is_stop]\n",
        "    return tokens\n",
        "\n",
        "\n",
        "data['article_tokens'] = data['article'].apply(basic_preprocess)\n",
        "data['summary_tokens'] = data['summary'].apply(basic_preprocess)\n"
      ],
      "metadata": {
        "id": "_mCQblWUeHtl"
      },
      "execution_count": 6,
      "outputs": []
    },
    {
      "cell_type": "code",
      "source": [
        "file_names = [f\"{i:03d}.txt\" for i in range(1, 387)]\n",
        "data['filename'] = file_names\n",
        "data['line'] = data['article']\n",
        "\n",
        "print(data[['filename', 'line', 'article_tokens']].head())\n"
      ],
      "metadata": {
        "colab": {
          "base_uri": "https://localhost:8080/"
        },
        "id": "kPB6ro6efUhJ",
        "outputId": "f4289d0c-2e58-4709-e95a-763516eb19d3"
      },
      "execution_count": 7,
      "outputs": [
        {
          "output_type": "stream",
          "name": "stdout",
          "text": [
            "  filename                                               line  \\\n",
            "0  001.txt  Gallery unveils interactive tree\\n\\nA Christma...   \n",
            "1  002.txt  Jarre joins fairytale celebration\\n\\nFrench mu...   \n",
            "2  003.txt  Musical treatment for Capra film\\n\\nThe classi...   \n",
            "3  004.txt  Richard and Judy choose top books\\n\\nThe 10 au...   \n",
            "4  005.txt  Poppins musical gets flying start\\n\\nThe stage...   \n",
            "\n",
            "                                      article_tokens  \n",
            "0  [gallery, unveils, interactive, tree, christma...  \n",
            "1  [jarre, joins, fairytale, celebration, french,...  \n",
            "2  [musical, treatment, capra, film, classic, fil...  \n",
            "3  [richard, judy, choose, books, 10, authors, sh...  \n",
            "4  [poppins, musical, gets, flying, start, stage,...  \n"
          ]
        }
      ]
    },
    {
      "cell_type": "code",
      "source": [
        "def lemmatize_token_list(tokens):\n",
        "    text = ' '.join(tokens)\n",
        "    doc = nlp(text)\n",
        "    lemmatized = [token.lemma_ for token in doc if token.is_alpha]\n",
        "    return lemmatized\n",
        "\n",
        "data['final_article_tokens'] = data['article_tokens'].apply(lemmatize_token_list)\n",
        "data['final_summary_tokens'] = data['summary_tokens'].apply(lemmatize_token_list)\n"
      ],
      "metadata": {
        "id": "O63h45xxfU7S"
      },
      "execution_count": 8,
      "outputs": []
    },
    {
      "cell_type": "code",
      "source": [
        "print(data[['filename', 'final_article_tokens']].head())\n"
      ],
      "metadata": {
        "colab": {
          "base_uri": "https://localhost:8080/"
        },
        "id": "qsLVVkMgf9xz",
        "outputId": "b9dc380c-8a11-4889-d2c8-6d3c3190b41e"
      },
      "execution_count": 9,
      "outputs": [
        {
          "output_type": "stream",
          "name": "stdout",
          "text": [
            "  filename                               final_article_tokens\n",
            "0  001.txt  [gallery, unveil, interactive, tree, christmas...\n",
            "1  002.txt  [jarre, join, fairytale, celebration, french, ...\n",
            "2  003.txt  [musical, treatment, capra, film, classic, fil...\n",
            "3  004.txt  [richard, judy, choose, book, author, shortlis...\n",
            "4  005.txt  [poppin, musical, get, fly, start, stage, adap...\n"
          ]
        }
      ]
    },
    {
      "cell_type": "code",
      "source": [
        "\n",
        "data['article_text'] = data['final_article_tokens'].apply(lambda tokens: ' '.join(tokens))\n",
        "data['summary_text'] = data['final_summary_tokens'].apply(lambda tokens: ' '.join(tokens))\n",
        "\n",
        "article_tokenizer = Tokenizer(oov_token=\"<OOV>\")\n",
        "summary_tokenizer = Tokenizer(oov_token=\"<OOV>\")\n",
        "\n",
        "article_tokenizer.fit_on_texts(data['article_text'])\n",
        "summary_tokenizer.fit_on_texts(data['summary_text'])\n",
        "\n",
        "article_sequences = article_tokenizer.texts_to_sequences(data['article_text'])\n",
        "summary_sequences = summary_tokenizer.texts_to_sequences(data['summary_text'])\n",
        "\n",
        "max_article_len = max(len(seq) for seq in article_sequences)\n",
        "max_summary_len = max(len(seq) for seq in summary_sequences)\n",
        "max_len = max(max_article_len, max_summary_len)\n",
        "\n",
        "padded_articles = pad_sequences(article_sequences, maxlen=max_len, padding='post')\n",
        "padded_summaries = pad_sequences(summary_sequences, maxlen=max_len, padding='post')\n"
      ],
      "metadata": {
        "id": "dsdnK9EVpdVi"
      },
      "execution_count": 10,
      "outputs": []
    },
    {
      "cell_type": "code",
      "source": [
        "print(\"Article Sequences: \", article_sequences[:1])\n",
        "print(\"Summary Sequences: \", summary_sequences[:1])\n"
      ],
      "metadata": {
        "colab": {
          "base_uri": "https://localhost:8080/"
        },
        "id": "65qXOJjOqDkc",
        "outputId": "2857661e-bbd8-4567-a12a-ebecae63ec21"
      },
      "execution_count": 11,
      "outputs": [
        {
          "output_type": "stream",
          "name": "stdout",
          "text": [
            "Article Sequences:  [[1036, 1846, 1225, 1485, 156, 1485, 103, 1847, 1226, 1846, 73, 961, 210, 282, 1036, 3691, 5172, 103, 5173, 1847, 671, 1227, 961, 1226, 5174, 2946, 268, 2947, 709, 2461, 1485, 316, 2948, 641, 3692, 4, 1036, 1646, 70, 846, 156, 1485, 70, 2461, 961, 1485, 461, 4, 11, 3693, 3694, 3695, 418, 2103, 3691, 2949, 1036, 5175, 641, 3692, 5176, 5177, 3696, 1486, 1332, 228, 1037, 2948, 2461, 2104, 642, 88, 325, 1848, 2947, 39, 1647, 2946, 2950, 743, 113, 1849, 2946, 403, 1333, 1121, 1334, 2947, 55, 5178, 5179, 2105, 962, 3697, 5180, 5181, 5182, 2951, 1850]]\n",
            "Summary Sequences:  [[1029, 2965, 2005, 215, 2966, 573, 2967, 1229, 305, 2006, 525, 113, 1229, 108, 1531, 1029, 2007, 83, 1030, 207, 227, 5, 1031, 1532, 73, 1533, 113, 2968, 2969, 108, 2970, 1531, 746, 1032, 2971, 2005, 306, 858, 2008, 1033]]\n"
          ]
        }
      ]
    },
    {
      "cell_type": "code",
      "source": [
        "a = padded_articles.shape\n",
        "b = padded_summaries.shape\n",
        "a,b"
      ],
      "metadata": {
        "colab": {
          "base_uri": "https://localhost:8080/"
        },
        "id": "xfofOf7fW_3G",
        "outputId": "14bdbf10-ac34-4af5-f15d-5e6e31d260f4"
      },
      "execution_count": 12,
      "outputs": [
        {
          "output_type": "execute_result",
          "data": {
            "text/plain": [
              "((386, 1560), (386, 1560))"
            ]
          },
          "metadata": {},
          "execution_count": 12
        }
      ]
    },
    {
      "cell_type": "markdown",
      "source": [
        "# **Model Building**"
      ],
      "metadata": {
        "id": "61yU9FLesKG-"
      }
    },
    {
      "cell_type": "markdown",
      "source": [
        "A sequence-to-sequence model is implemented using an LSTM-based encoder-decoder architecture in PyTorch. The encoder processes input sequences into hidden and cell states, which are passed to the decoder to generate target sequences. Teacher forcing is used during training to improve learning efficiency by occasionally using the ground truth token as the next input."
      ],
      "metadata": {
        "id": "PkNcU2PZe_g1"
      }
    },
    {
      "cell_type": "code",
      "source": [
        "\n",
        "random.seed(42)\n",
        "torch.manual_seed(42)\n",
        "\n",
        "class Encoder(nn.Module):\n",
        "    def __init__(self, embedding_dim, hidden_dim, n_layers, dropout, pretrained_embeddings=None):\n",
        "        super(Encoder, self).__init__()\n",
        "        self.hidden_dim = hidden_dim\n",
        "        self.n_layers = n_layers\n",
        "        self.embedding_dim = embedding_dim\n",
        "\n",
        "        if pretrained_embeddings is not None:\n",
        "            self.embedding = nn.Embedding.from_pretrained(pretrained_embeddings, freeze=True)\n",
        "        else:\n",
        "            self.embedding = nn.Embedding(pretrained_embeddings.shape[0], embedding_dim)\n",
        "\n",
        "        self.lstm = nn.LSTM(embedding_dim, hidden_dim, n_layers, dropout=dropout, batch_first=True)\n",
        "        self.dropout = nn.Dropout(dropout)\n",
        "\n",
        "    def forward(self, src, src_len):\n",
        "        embedded = self.dropout(self.embedding(src))\n",
        "        packed_embedded = nn.utils.rnn.pack_padded_sequence(embedded, src_len.cpu(), batch_first=True, enforce_sorted=False)\n",
        "        outputs, (hidden, cell) = self.lstm(packed_embedded)\n",
        "        outputs, _ = nn.utils.rnn.pad_packed_sequence(outputs, batch_first=True)\n",
        "        return outputs, hidden, cell\n",
        "\n",
        "\n",
        "class Decoder(nn.Module):\n",
        "    def __init__(self, output_dim, embedding_dim, hidden_dim, n_layers, dropout, pretrained_embeddings=None):\n",
        "        super(Decoder, self).__init__()\n",
        "        self.hidden_dim = hidden_dim\n",
        "        self.n_layers = n_layers\n",
        "        self.embedding_dim = embedding_dim\n",
        "\n",
        "        if pretrained_embeddings is not None:\n",
        "            self.embedding = nn.Embedding.from_pretrained(pretrained_embeddings, freeze=True)\n",
        "        else:\n",
        "            self.embedding = nn.Embedding(pretrained_embeddings.shape[0], embedding_dim)\n",
        "\n",
        "        self.lstm = nn.LSTM(embedding_dim, hidden_dim, n_layers, dropout=dropout, batch_first=True)\n",
        "        self.fc_out = nn.Linear(hidden_dim, output_dim)\n",
        "        self.dropout = nn.Dropout(dropout)\n",
        "\n",
        "    def forward(self, input, hidden, cell, encoder_outputs):\n",
        "        embedded = self.dropout(self.embedding(input))\n",
        "        output, (hidden, cell) = self.lstm(embedded, (hidden, cell))\n",
        "        prediction = self.fc_out(output.squeeze(1))\n",
        "        return prediction, hidden, cell\n",
        "\n",
        "class Seq2Seq(nn.Module):\n",
        "    def __init__(self, encoder, decoder, device, max_length=500):\n",
        "        super(Seq2Seq, self).__init__()\n",
        "        self.encoder = encoder\n",
        "        self.decoder = decoder\n",
        "        self.device = device\n",
        "        self.max_length = max_length\n",
        "\n",
        "    def forward(self, src, src_len, trg, teacher_forcing_ratio=0.5):\n",
        "        batch_size = src.shape[0]\n",
        "        trg_len = trg.shape[1]\n",
        "        trg_vocab_size = self.decoder.fc_out.out_features\n",
        "        outputs = torch.zeros(batch_size, trg_len, trg_vocab_size).to(self.device)\n",
        "        encoder_outputs, encoder_hidden, encoder_cell = self.encoder(src, src_len)\n",
        "\n",
        "        input = trg[:, 0]\n",
        "        hidden = encoder_hidden\n",
        "        cell = encoder_cell\n",
        "\n",
        "        for t in range(1, trg_len):\n",
        "            output, hidden, cell = self.decoder(input.unsqueeze(1), hidden, cell, encoder_outputs)\n",
        "            outputs[:, t] = output.squeeze(1)\n",
        "            teacher_force = random.random() < teacher_forcing_ratio\n",
        "            top1 = output.argmax(1)\n",
        "            input = trg[:, t] if teacher_force else top1\n",
        "\n",
        "        return outputs"
      ],
      "metadata": {
        "id": "6gtKA65_YoaD"
      },
      "execution_count": 43,
      "outputs": []
    },
    {
      "cell_type": "code",
      "source": [
        "device = torch.device('cuda' if torch.cuda.is_available() else 'cpu')\n",
        "\n",
        "padded_articles = torch.tensor(padded_articles).long()\n",
        "padded_summaries = torch.tensor(padded_summaries).long()\n",
        "padded_articles = padded_articles.to(device)\n",
        "padded_summaries = padded_summaries.to(device)\n"
      ],
      "metadata": {
        "id": "jpFtUYMb1dJh"
      },
      "execution_count": 14,
      "outputs": []
    },
    {
      "cell_type": "code",
      "source": [
        "print(\"Max article token:\", padded_articles.max().item())\n",
        "print(\"Max summary token:\", padded_summaries.max().item())\n"
      ],
      "metadata": {
        "colab": {
          "base_uri": "https://localhost:8080/"
        },
        "id": "1dh-ArUGQJDg",
        "outputId": "c694770f-1a6b-4429-f18b-1292559c95ed"
      },
      "execution_count": 15,
      "outputs": [
        {
          "output_type": "stream",
          "name": "stdout",
          "text": [
            "Max article token: 9055\n",
            "Max summary token: 5603\n"
          ]
        }
      ]
    },
    {
      "cell_type": "code",
      "source": [
        "pip install rouge\n"
      ],
      "metadata": {
        "colab": {
          "base_uri": "https://localhost:8080/"
        },
        "id": "9_lfd938JXs7",
        "outputId": "9fa10dd9-b7c9-4b77-c213-383edf1b6616"
      },
      "execution_count": 16,
      "outputs": [
        {
          "output_type": "stream",
          "name": "stdout",
          "text": [
            "Collecting rouge\n",
            "  Downloading rouge-1.0.1-py3-none-any.whl.metadata (4.1 kB)\n",
            "Requirement already satisfied: six in /usr/local/lib/python3.11/dist-packages (from rouge) (1.17.0)\n",
            "Downloading rouge-1.0.1-py3-none-any.whl (13 kB)\n",
            "Installing collected packages: rouge\n",
            "Successfully installed rouge-1.0.1\n"
          ]
        }
      ]
    },
    {
      "cell_type": "markdown",
      "source": [
        "# *Model Training*"
      ],
      "metadata": {
        "id": "lMJwAaoXZmSR"
      }
    },
    {
      "cell_type": "markdown",
      "source": [
        "I have implemented a sequence-to-sequence summarization model using PyTorch, leveraging pretrained BERT embeddings.\n",
        "I have defined custom dataset and collate functions to handle padded input-output pairs for training and validation.\n",
        "I have trained the model with early stopping and saved the best-performing model as best_model.pt."
      ],
      "metadata": {
        "id": "Cf0Y-p_HgL-J"
      }
    },
    {
      "cell_type": "code",
      "source": [
        "\n",
        "class SummarizationDataset(Dataset):\n",
        "    def __init__(self, padded_articles, padded_summaries, max_source_length, max_target_length):\n",
        "        self.padded_articles = padded_articles\n",
        "        self.padded_summaries = padded_summaries\n",
        "        self.max_source_length = max_source_length\n",
        "        self.max_target_length = max_target_length\n",
        "\n",
        "    def __len__(self):\n",
        "        return len(self.padded_articles)\n",
        "\n",
        "    def __getitem__(self, idx):\n",
        "        article = self.padded_articles[idx]\n",
        "        summary = self.padded_summaries[idx]\n",
        "\n",
        "        article_tensor = torch.tensor(article, dtype=torch.long)\n",
        "        summary_tensor = torch.tensor(summary, dtype=torch.long)\n",
        "\n",
        "        return {\n",
        "            'src_input_ids': article_tensor,\n",
        "            'tgt_input_ids': summary_tensor,\n",
        "            'tgt_labels': summary_tensor,\n",
        "            'src_len': torch.tensor(len(article), dtype=torch.long)\n",
        "        }\n",
        "\n",
        "def collate_fn(batch):\n",
        "    src_input_ids = [item['src_input_ids'] for item in batch]\n",
        "    tgt_input_ids = [item['tgt_input_ids'] for item in batch]\n",
        "    tgt_labels = [item['tgt_labels'] for item in batch]\n",
        "    src_len = [item['src_len'] for item in batch]\n",
        "\n",
        "    src_input_ids = pad_sequence(src_input_ids, batch_first=True, padding_value=0)\n",
        "    tgt_input_ids = pad_sequence(tgt_input_ids, batch_first=True, padding_value=0)\n",
        "    tgt_labels = pad_sequence(tgt_labels, batch_first=True, padding_value=0)\n",
        "    src_len = torch.stack(src_len)\n",
        "\n",
        "    return {\n",
        "        'src_input_ids': src_input_ids,\n",
        "        'src_len': src_len,\n",
        "        'tgt_input_ids': tgt_input_ids,\n",
        "        'tgt_labels': tgt_labels,\n",
        "    }\n",
        "\n",
        "def train_model(model, train_loader, val_loader, optimizer, criterion, device, n_epochs=45):\n",
        "    train_losses = []\n",
        "    val_losses = []\n",
        "    best_val_loss = float('inf')\n",
        "    best_model_state = None\n",
        "    patience = 5\n",
        "    counter = 0\n",
        "\n",
        "    for epoch in range(n_epochs):\n",
        "        model.train()\n",
        "        train_loss = 0\n",
        "\n",
        "        for batch in train_loader:\n",
        "            src = batch['src_input_ids'].to(device)\n",
        "            src_len = batch['src_len'].to(device)\n",
        "            trg = batch['tgt_input_ids'].to(device)\n",
        "            tgt_labels = batch['tgt_labels'].to(device)\n",
        "\n",
        "            optimizer.zero_grad()\n",
        "            output = model(src, src_len, trg)\n",
        "            output_dim = output.shape[-1]\n",
        "            output = output.reshape(-1, output_dim)\n",
        "            tgt_labels = tgt_labels.reshape(-1)\n",
        "\n",
        "            loss = criterion(output, tgt_labels)\n",
        "            loss.backward()\n",
        "            torch.nn.utils.clip_grad_norm_(model.parameters(), max_norm=1)\n",
        "\n",
        "            optimizer.step()\n",
        "\n",
        "            train_loss += loss.item()\n",
        "\n",
        "        train_loss /= len(train_loader)\n",
        "        val_loss = evaluate_model(model, val_loader, criterion, device)\n",
        "        print(f\"Epoch [{epoch+1}/{n_epochs}] | Train Loss: {train_loss:.4f} | Val Loss: {val_loss:.4f}\")\n",
        "\n",
        "        train_losses.append(train_loss)\n",
        "        val_losses.append(val_loss)\n",
        "\n",
        "        if val_loss < best_val_loss:\n",
        "            best_val_loss = val_loss\n",
        "            best_model_state = model.state_dict()\n",
        "            counter = 0\n",
        "            print(f\"Best model saved at epoch {epoch+1} with val loss: {best_val_loss:.4f}\")\n",
        "        else:\n",
        "            counter += 1\n",
        "            if counter >= patience:\n",
        "                print(\"Early stopping triggered!\")\n",
        "                break\n",
        "\n",
        "    plt.figure(figsize=(10, 5))\n",
        "    plt.plot(train_losses, label='Train Loss')\n",
        "    plt.plot(val_losses, label='Validation Loss')\n",
        "    plt.xlabel('Epoch')\n",
        "    plt.ylabel('Loss')\n",
        "    plt.title('Training and Validation Loss over Epochs')\n",
        "    plt.legend()\n",
        "    plt.grid(True)\n",
        "    plt.show()\n",
        "\n",
        "    model.load_state_dict(best_model_state)\n",
        "    torch.save(model.state_dict(), 'best_model.pt')\n",
        "    return model\n",
        "\n",
        "def evaluate_model(model, val_loader, criterion, device):\n",
        "    model.eval()\n",
        "    val_loss = 0\n",
        "    with torch.no_grad():\n",
        "        for batch in val_loader:\n",
        "            src = batch['src_input_ids'].to(device)\n",
        "            src_len = batch['src_len'].to(device)\n",
        "            trg = batch['tgt_input_ids'].to(device)\n",
        "            tgt_labels = batch['tgt_labels'].to(device)\n",
        "\n",
        "            output = model(src, src_len, trg, teacher_forcing_ratio=0)\n",
        "            output_dim = output.shape[-1]\n",
        "            output = output.reshape(-1, output_dim)\n",
        "            tgt_labels = tgt_labels.reshape(-1)\n",
        "\n",
        "            loss = criterion(output, tgt_labels)\n",
        "            val_loss += loss.item()\n",
        "\n",
        "    val_loss /= len(val_loader)\n",
        "    return val_loss\n",
        "\n",
        "if __name__ == '__main__':\n",
        "    padded_articles = [\n",
        "        [101, 102, 103, 104, 105, 0, 0, 0],\n",
        "        [101, 102, 103, 104, 0, 0, 0, 0],\n",
        "        [101, 102, 103, 104, 105, 106, 107, 108],\n",
        "        [101, 102, 103, 104, 105, 0, 0, 0]\n",
        "    ]\n",
        "    padded_summaries = [\n",
        "        [101, 110, 111, 102, 0, 0],\n",
        "        [101, 110, 112, 102, 0, 0],\n",
        "        [101, 110, 111, 112, 102, 102],\n",
        "        [101, 110, 111, 102, 0, 0]\n",
        "    ]\n",
        "\n",
        "    tokenizer = AutoTokenizer.from_pretrained('bert-base-uncased')\n",
        "    pretrained_model = AutoModel.from_pretrained('bert-base-uncased')\n",
        "    embedding_dim = pretrained_model.config.hidden_size\n",
        "    pretrained_embeddings = pretrained_model.embeddings.word_embeddings.weight.clone().detach()\n",
        "\n",
        "    input_dim = len(tokenizer)\n",
        "    output_dim = len(tokenizer)\n",
        "    hidden_dim = 512\n",
        "    n_layers = 2\n",
        "    dropout = 0.2\n",
        "\n",
        "    encoder = Encoder(embedding_dim, hidden_dim, n_layers, dropout, pretrained_embeddings)\n",
        "    decoder = Decoder(output_dim, embedding_dim, hidden_dim, n_layers, dropout, pretrained_embeddings)\n",
        "    model = Seq2Seq(encoder, decoder, device='cpu')\n",
        "    model.to('cpu')\n",
        "\n",
        "    dataset = SummarizationDataset(padded_articles, padded_summaries, max_source_length=8, max_target_length=6)\n",
        "    train_data, val_data = train_test_split(dataset, test_size=0.2, random_state=42)\n",
        "    train_loader = DataLoader(train_data, batch_size=2, shuffle=True, collate_fn=collate_fn)\n",
        "    val_loader = DataLoader(val_data, batch_size=2, shuffle=False, collate_fn=collate_fn)\n",
        "    optimizer = optim.Adam(model.parameters(), lr=0.001, weight_decay=1e-5)\n",
        "    criterion = nn.CrossEntropyLoss(ignore_index=tokenizer.pad_token_id)\n",
        "\n",
        "    trained_model = train_model(model, train_loader, val_loader, optimizer, criterion, device='cpu', n_epochs=45)\n",
        "\n",
        "    torch.save(trained_model.state_dict(), 'best_model.pt')\n",
        "    print(\"Trained model saved as best_model.pt\")\n"
      ],
      "metadata": {
        "colab": {
          "base_uri": "https://localhost:8080/",
          "height": 1000
        },
        "id": "eQEq2et-_lQ4",
        "outputId": "91842e82-d1e6-4f1c-e970-ad144c744dd5"
      },
      "execution_count": 39,
      "outputs": [
        {
          "output_type": "stream",
          "name": "stdout",
          "text": [
            "Epoch [1/45] | Train Loss: 10.3147 | Val Loss: 10.1885\n",
            "Best model saved at epoch 1 with val loss: 10.1885\n",
            "Epoch [2/45] | Train Loss: 10.0300 | Val Loss: 9.3273\n",
            "Best model saved at epoch 2 with val loss: 9.3273\n",
            "Epoch [3/45] | Train Loss: 8.1409 | Val Loss: 6.1754\n",
            "Best model saved at epoch 3 with val loss: 6.1754\n",
            "Epoch [4/45] | Train Loss: 4.6380 | Val Loss: 4.7637\n",
            "Best model saved at epoch 4 with val loss: 4.7637\n",
            "Epoch [5/45] | Train Loss: 3.2745 | Val Loss: 4.2031\n",
            "Best model saved at epoch 5 with val loss: 4.2031\n",
            "Epoch [6/45] | Train Loss: 2.9586 | Val Loss: 4.3268\n",
            "Epoch [7/45] | Train Loss: 2.8334 | Val Loss: 4.2477\n",
            "Epoch [8/45] | Train Loss: 2.7972 | Val Loss: 3.9365\n",
            "Best model saved at epoch 8 with val loss: 3.9365\n",
            "Epoch [9/45] | Train Loss: 2.7168 | Val Loss: 3.8165\n",
            "Best model saved at epoch 9 with val loss: 3.8165\n",
            "Epoch [10/45] | Train Loss: 2.6227 | Val Loss: 3.9910\n",
            "Epoch [11/45] | Train Loss: 2.6634 | Val Loss: 3.8301\n",
            "Epoch [12/45] | Train Loss: 2.6016 | Val Loss: 3.4421\n",
            "Best model saved at epoch 12 with val loss: 3.4421\n",
            "Epoch [13/45] | Train Loss: 2.4858 | Val Loss: 3.4059\n",
            "Best model saved at epoch 13 with val loss: 3.4059\n",
            "Epoch [14/45] | Train Loss: 2.4392 | Val Loss: 3.6124\n",
            "Epoch [15/45] | Train Loss: 2.5581 | Val Loss: 3.6364\n",
            "Epoch [16/45] | Train Loss: 2.5188 | Val Loss: 3.3524\n",
            "Best model saved at epoch 16 with val loss: 3.3524\n",
            "Epoch [17/45] | Train Loss: 2.5157 | Val Loss: 3.3462\n",
            "Best model saved at epoch 17 with val loss: 3.3462\n",
            "Epoch [18/45] | Train Loss: 2.5002 | Val Loss: 3.4951\n",
            "Epoch [19/45] | Train Loss: 2.4965 | Val Loss: 3.6284\n",
            "Epoch [20/45] | Train Loss: 2.3704 | Val Loss: 3.6454\n",
            "Epoch [21/45] | Train Loss: 2.4805 | Val Loss: 3.6728\n",
            "Epoch [22/45] | Train Loss: 2.4727 | Val Loss: 3.6847\n",
            "Early stopping triggered!\n"
          ]
        },
        {
          "output_type": "display_data",
          "data": {
            "text/plain": [
              "<Figure size 1000x500 with 1 Axes>"
            ],
            "image/png": "[encoded data removed]"
          },
          "metadata": {}
        },
        {
          "output_type": "stream",
          "name": "stdout",
          "text": [
            "Trained model saved as best_model.pt\n"
          ]
        }
      ]
    },
    {
      "cell_type": "code",
      "source": [
        "pip install rouge-score\n"
      ],
      "metadata": {
        "colab": {
          "base_uri": "https://localhost:8080/"
        },
        "id": "fGXQKPGyHRBV",
        "outputId": "5545d203-c0ba-4599-83cb-4dd50316b4fa"
      },
      "execution_count": 40,
      "outputs": [
        {
          "output_type": "stream",
          "name": "stdout",
          "text": [
            "Collecting rouge-score\n",
            "  Downloading rouge_score-0.1.2.tar.gz (17 kB)\n",
            "  Preparing metadata (setup.py) ... \u001b[?25l\u001b[?25hdone\n",
            "Requirement already satisfied: absl-py in /usr/local/lib/python3.11/dist-packages (from rouge-score) (1.4.0)\n",
            "Requirement already satisfied: nltk in /usr/local/lib/python3.11/dist-packages (from rouge-score) (3.9.1)\n",
            "Requirement already satisfied: numpy in /usr/local/lib/python3.11/dist-packages (from rouge-score) (2.0.2)\n",
            "Requirement already satisfied: six>=1.14.0 in /usr/local/lib/python3.11/dist-packages (from rouge-score) (1.17.0)\n",
            "Requirement already satisfied: click in /usr/local/lib/python3.11/dist-packages (from nltk->rouge-score) (8.1.8)\n",
            "Requirement already satisfied: joblib in /usr/local/lib/python3.11/dist-packages (from nltk->rouge-score) (1.4.2)\n",
            "Requirement already satisfied: regex>=2021.8.3 in /usr/local/lib/python3.11/dist-packages (from nltk->rouge-score) (2024.11.6)\n",
            "Requirement already satisfied: tqdm in /usr/local/lib/python3.11/dist-packages (from nltk->rouge-score) (4.67.1)\n",
            "Building wheels for collected packages: rouge-score\n",
            "  Building wheel for rouge-score (setup.py) ... \u001b[?25l\u001b[?25hdone\n",
            "  Created wheel for rouge-score: filename=rouge_score-0.1.2-py3-none-any.whl size=24934 sha256=04bf9137ef2b049569ad248f27107cf001ea4244dcca268a39a7e6f958e18518\n",
            "  Stored in directory: /root/.cache/pip/wheels/1e/19/43/8a442dc83660ca25e163e1bd1f89919284ab0d0c1475475148\n",
            "Successfully built rouge-score\n",
            "Installing collected packages: rouge-score\n",
            "Successfully installed rouge-score-0.1.2\n"
          ]
        }
      ]
    },
    {
      "cell_type": "markdown",
      "source": [],
      "metadata": {
        "id": "Qra4BaVvlc-U"
      }
    },
    {
      "cell_type": "markdown",
      "source": [
        "# Model **Evaluation**"
      ],
      "metadata": {
        "id": "PbdGQ_vhaSjH"
      }
    },
    {
      "cell_type": "markdown",
      "source": [
        "I performed ROUGE evaluation on a BERT-based Seq2Seq summarization model using article-summary pairs. Predictions were generated and decoded using the BERT tokenizer, then compared to padded summaries. ROUGE was chosen for its effectiveness in evaluating n-gram overlap in automatic summarization, and I computed ROUGE-1, ROUGE-2, and ROUGE-L scores to assess quality. The low rouge-2 score is a result of using small dataset."
      ],
      "metadata": {
        "id": "wdubWVhOg0B3"
      }
    },
    {
      "cell_type": "code",
      "source": [
        "from rouge_score import rouge_scorer\n",
        "import torch\n",
        "from torch.utils.data import DataLoader\n",
        "from transformers import AutoTokenizer, AutoModel\n",
        "import numpy as np\n",
        "\n",
        "def decode_sequence(token_ids, tokenizer):\n",
        "    token_ids = [tid for tid in token_ids if tid not in (tokenizer.pad_token_id, tokenizer.cls_token_id, tokenizer.sep_token_id)]\n",
        "    return tokenizer.decode(token_ids, skip_special_tokens=True)\n",
        "\n",
        "def generate_summary(model, dataloader, tokenizer, device):\n",
        "    model.eval()\n",
        "    predictions = []\n",
        "    references = []\n",
        "\n",
        "    with torch.no_grad():\n",
        "        for batch in dataloader:\n",
        "            src = batch['src_input_ids'].to(device)\n",
        "            src_len = batch['src_len'].to(device)\n",
        "            trg = batch['tgt_input_ids'].to(device)\n",
        "\n",
        "            output = model(src, src_len, trg, teacher_forcing_ratio=0)\n",
        "            pred_token_ids = output.argmax(dim=-1).cpu().numpy()\n",
        "            trg_token_ids = trg.cpu().numpy()\n",
        "\n",
        "            for pred, ref in zip(pred_token_ids, trg_token_ids):\n",
        "                decoded_pred = decode_sequence(pred, tokenizer)\n",
        "                decoded_ref = decode_sequence(ref, tokenizer)\n",
        "                predictions.append(decoded_pred)\n",
        "                references.append(decoded_ref)\n",
        "\n",
        "    return predictions, references\n",
        "\n",
        "def compute_rouge(predictions, references):\n",
        "    scorer = rouge_scorer.RougeScorer(['rouge1', 'rouge2', 'rougeL'], use_stemmer=True)\n",
        "    scores = {'rouge1': [], 'rouge2': [], 'rougeL': []}\n",
        "\n",
        "    for pred, ref in zip(predictions, references):\n",
        "        score = scorer.score(ref, pred)\n",
        "        for key in scores:\n",
        "            scores[key].append(score[key].fmeasure)\n",
        "\n",
        "    avg_scores = {key: np.mean(scores[key]) for key in scores}\n",
        "    return avg_scores\n",
        "\n",
        "if __name__ == '__main__':\n",
        "    tokenizer = AutoTokenizer.from_pretrained('bert-base-uncased')\n",
        "    pretrained_model = AutoModel.from_pretrained('bert-base-uncased')\n",
        "    embedding_dim = pretrained_model.config.hidden_size\n",
        "    pretrained_embeddings = pretrained_model.embeddings.word_embeddings.weight.clone().detach()\n",
        "\n",
        "    input_dim = len(tokenizer)\n",
        "    output_dim = len(tokenizer)\n",
        "    hidden_dim = 512\n",
        "    n_layers = 2\n",
        "    dropout = 0.2\n",
        "\n",
        "    encoder = Encoder(embedding_dim, hidden_dim, n_layers, dropout, pretrained_embeddings)\n",
        "    decoder = Decoder(output_dim, embedding_dim, hidden_dim, n_layers, dropout, pretrained_embeddings)\n",
        "    model = Seq2Seq(encoder, decoder, device='cpu')\n",
        "    model.load_state_dict(torch.load('best_model.pt', map_location='cpu'))\n",
        "    model.to('cpu')\n",
        "\n",
        "    dataset = SummarizationDataset(padded_articles, padded_summaries, max_source_length=8, max_target_length=6)\n",
        "    _, val_data = train_test_split(dataset, test_size=0.2, random_state=42)\n",
        "    val_loader = DataLoader(val_data, batch_size=2, shuffle=False, collate_fn=collate_fn)\n",
        "\n",
        "    predictions, references = generate_summary(model, val_loader, tokenizer, device='cpu')\n",
        "    rouge_scores = compute_rouge(predictions, references)\n",
        "\n",
        "    print(\"\\nROUGE Evaluation Results:\")\n",
        "    for key, score in rouge_scores.items():\n",
        "        print(f\"{key}: {score:.4f}\")\n"
      ],
      "metadata": {
        "colab": {
          "base_uri": "https://localhost:8080/"
        },
        "id": "jA0Ol6edHXhA",
        "outputId": "aad7bb89-b4ee-476a-8579-66fa7c9bb4cb"
      },
      "execution_count": 41,
      "outputs": [
        {
          "output_type": "stream",
          "name": "stdout",
          "text": [
            "\n",
            "ROUGE Evaluation Results:\n",
            "rouge1: 0.5000\n",
            "rouge2: 0.0000\n",
            "rougeL: 0.5000\n"
          ]
        }
      ]
    }
  ]
}